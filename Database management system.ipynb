{
 "cells": [
  {
   "cell_type": "markdown",
   "id": "01d522c1",
   "metadata": {},
   "source": [
    "# Assignment 1.1"
   ]
  },
  {
   "cell_type": "code",
   "execution_count": 1,
   "id": "c321f2e2",
   "metadata": {},
   "outputs": [
    {
     "data": {
      "text/plain": [
       "'student'"
      ]
     },
     "execution_count": 1,
     "metadata": {},
     "output_type": "execute_result"
    }
   ],
   "source": [
    "# class to find table name from query\n",
    "class FindTable:\n",
    "    #member function of FindTable\n",
    "    def findTable(self, query):\n",
    "        query = query.lower() #to convert string into lowercase\n",
    "        i = query.find(\"from\") \n",
    "        ls = query[i:len(query)].split() #splitting string by space\n",
    "        return ls[1] #returns tablename\n",
    "\n",
    "ftable = FindTable() #creating object of FindTable\n",
    "ftable.findTable(\"Select * from student\") #calling findTable method of FindTable class"
   ]
  },
  {
   "cell_type": "markdown",
   "id": "e20438b1",
   "metadata": {},
   "source": [
    "# Assignment 1.2"
   ]
  },
  {
   "cell_type": "code",
   "execution_count": 2,
   "id": "5798d8b8",
   "metadata": {},
   "outputs": [
    {
     "data": {
      "text/plain": [
       "['name', 'country']"
      ]
     },
     "execution_count": 2,
     "metadata": {},
     "output_type": "execute_result"
    }
   ],
   "source": [
    "#Class to find attributes from query\n",
    "class GetAttributes:\n",
    "    #function which returns the list of attributes from query\n",
    "    def getAttributes(self, query):\n",
    "        query = query.lower() #converting string into lowercase\n",
    "        start = query.find(\"select\") #finding index of \"select\"\n",
    "        end = query.find(\"from\") #finding index of \"from\" \n",
    "        query = query.replace(',',' ') #removing ',' from string\n",
    "        ls = query[start:end].split() #storing attributes into list \n",
    "        ls.remove(\"select\") #removing select from list\n",
    "        return ls #returns the list attrtibutes\n",
    "    \n",
    "gattributes = GetAttributes() #creating object of GetAttributes\n",
    "gattributes.getAttributes(\"Select name, country from student\") #calling getAttributes method with parameters"
   ]
  },
  {
   "cell_type": "markdown",
   "id": "27d7daaf",
   "metadata": {},
   "source": [
    "# Assignment 1.3"
   ]
  },
  {
   "cell_type": "code",
   "execution_count": 3,
   "id": "d20ffa94",
   "metadata": {},
   "outputs": [],
   "source": [
    "#class to store attributes information\n",
    "class Attribute:\n",
    "    \n",
    "    name = \"\" #attribute to store attribute name\n",
    "    A_type = \"string\" #attribute to store attribute type"
   ]
  },
  {
   "cell_type": "markdown",
   "id": "c9c9da12",
   "metadata": {},
   "source": [
    "# Assignment 1.4"
   ]
  },
  {
   "cell_type": "code",
   "execution_count": 4,
   "id": "45081e33",
   "metadata": {},
   "outputs": [],
   "source": [
    "#class to store table information\n",
    "class Table():\n",
    "    \n",
    "    attributes = [] #list of attributes\n",
    "    rows = [] #list of rows\n",
    "    table_name = \"\" #table name variable\n",
    "    \n",
    "    def getTable(self):\n",
    "        data = [self.table_name, self.attributes, self.rows] #stores table information"
   ]
  },
  {
   "cell_type": "markdown",
   "id": "3426ee0e",
   "metadata": {},
   "source": [
    "# Assignment 1.5, 1.6 & 1.7"
   ]
  },
  {
   "cell_type": "code",
   "execution_count": 5,
   "id": "aaafd9a9",
   "metadata": {},
   "outputs": [],
   "source": [
    "#class to handle database operations\n",
    "class Database(Table, FindTable, GetAttributes, Attribute):\n",
    "    \n",
    "    def __init__(self): #defining constructor\n",
    "        self.tables = [] #storing list of tables\n",
    "   \n",
    "    #function to read csv file and store data into table\n",
    "    def read(self, tablename, filename):\n",
    "        with open(filename, 'r') as f: #reading csv file\n",
    "            temp = f.readline().replace(\"\\n\",\"\").lower() #converting into lowercase and removing '\\n'\n",
    "            temp = temp.split(',') #seperating string with ','\n",
    "            self.attributes = temp #storing list of attributes inside attributes variable\n",
    "            for line in f: #looping line by line to store rows of table\n",
    "                line = line.replace('\\n',\"\") #removing '\\n'\n",
    "                words = line.split(',') #splitting string with ','\n",
    "                self.rows.append(words) #storing rows inside rows variable\n",
    "        self.table_name = tablename.lower() #converting table name into lowercase\n",
    "        self.tables.append([self.table_name, self.attributes, self.rows]) #stores list of tables\n",
    "    \n",
    "    #function to display data from table according to query\n",
    "    def select(self, query, count=0):\n",
    "        if(count==0): #checking whether parameter is passed or not\n",
    "            count = len(self.rows) \n",
    "        attrs = GetAttributes.getAttributes(self, query) #getting attributes from query using function\n",
    "        table = FindTable.findTable(self,query) #getting table name using findTable function\n",
    "        for tb in self.tables: #looping though tables \n",
    "            idx = [] #to store index value of attributes\n",
    "            if tb[0] == table: \n",
    "                if '*' in attrs: #if '*' is passed inside attributes then assigning all attributes\n",
    "                    attrs = tb[1]\n",
    "                for at in attrs: #looping through list of attributes\n",
    "                    print(at.capitalize(), end=\"\\t\") #prints column names\n",
    "                    idx.append(tb[1].index(at)) #storing available attribute's index value\n",
    "                print() #to start from new line\n",
    "                for row in tb[2]: #looping inside rows\n",
    "                    if(count>0): #check if count is 0\n",
    "                        for i in idx: #looping with respect to available attribute's index\n",
    "                            print(row[i], end=\"\\t\") #prints row\n",
    "                        count -= 1 #decrement count variable by 1\n",
    "                        print() #start from new line"
   ]
  },
  {
   "cell_type": "code",
   "execution_count": 6,
   "id": "3e5d1f5a",
   "metadata": {},
   "outputs": [
    {
     "name": "stdout",
     "output_type": "stream",
     "text": [
      "Id\tName\t\n",
      "1\tJohn\t\n",
      "2\tMary\t\n",
      "3\tAlex\t\n"
     ]
    }
   ],
   "source": [
    "db = Database() #Creating object of Database class\n",
    "db.read(\"Person\",\"file.csv\") #Reading from file.csv\n",
    "db.select(\"Select id, name from Person\") #Performing select operation"
   ]
  },
  {
   "cell_type": "code",
   "execution_count": 7,
   "id": "da2760e5",
   "metadata": {},
   "outputs": [
    {
     "name": "stdout",
     "output_type": "stream",
     "text": [
      "Id\tName\tAge\t\n",
      "1\tJohn\t20\t\n",
      "2\tMary\t19\t\n",
      "3\tAlex\t20\t\n"
     ]
    }
   ],
   "source": [
    "db.select(\"select * from Person\") #displaying all data from table"
   ]
  }
 ],
 "metadata": {
  "kernelspec": {
   "display_name": "Python 3",
   "language": "python",
   "name": "python3"
  },
  "language_info": {
   "codemirror_mode": {
    "name": "ipython",
    "version": 3
   },
   "file_extension": ".py",
   "mimetype": "text/x-python",
   "name": "python",
   "nbconvert_exporter": "python",
   "pygments_lexer": "ipython3",
   "version": "3.8.8"
  }
 },
 "nbformat": 4,
 "nbformat_minor": 5
}
